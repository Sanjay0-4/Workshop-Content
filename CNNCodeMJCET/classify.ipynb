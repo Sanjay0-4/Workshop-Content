{
  "cells": [
    {
      "metadata": {
        "trusted": true
      },
      "cell_type": "code",
      "source": "import numpy\nfrom keras.models import Sequential\nfrom keras.layers import Dense,Dropout,Flatten,Conv2D,MaxPooling2D\nfrom keras.constraints import maxnorm\nfrom keras.optimizers import SGD\nfrom keras.utils import np_utils \nfrom keras import backend as K \nK.set_image_dim_ordering('tf')",
      "execution_count": 21,
      "outputs": []
    },
    {
      "metadata": {
        "trusted": true
      },
      "cell_type": "code",
      "source": "from keras.datasets import cifar10\n(X_train, y_train), (X_test, y_test) = cifar10.load_data()",
      "execution_count": 22,
      "outputs": []
    },
    {
      "metadata": {
        "trusted": true
      },
      "cell_type": "code",
      "source": "X_train = X_train.astype('float32') \nX_test = X_test.astype('float32') \nX_train = X_train / 255.0 \nX_test = X_test / 255.0",
      "execution_count": 23,
      "outputs": []
    },
    {
      "metadata": {
        "trusted": true
      },
      "cell_type": "code",
      "source": "y_train = np_utils.to_categorical(y_train) \ny_test = np_utils.to_categorical(y_test) \nnum_classes = y_test.shape[1]",
      "execution_count": 24,
      "outputs": []
    },
    {
      "metadata": {
        "trusted": true
      },
      "cell_type": "code",
      "source": "model = Sequential()",
      "execution_count": 25,
      "outputs": []
    },
    {
      "metadata": {
        "trusted": true
      },
      "cell_type": "code",
      "source": "model.add(Conv2D(32, kernel_size=(3, 3), activation='relu', input_shape=(32, 32, 3)))\n         \nmodel.add(Conv2D(64, kernel_size=(3, 3), activation='relu'))\nmodel.add(Conv2D(64, kernel_size=(3, 3), activation='relu'))\nmodel.add(MaxPooling2D(pool_size=(2, 2)))\nmodel.add(Dropout(0.25))\n\nmodel.add(Conv2D(128, kernel_size=(3, 3), activation='relu'))\nmodel.add(MaxPooling2D(pool_size=(2, 2)))\nmodel.add(Conv2D(128, kernel_size=(3, 3), activation='relu'))\nmodel.add(MaxPooling2D(pool_size=(2, 2)))\nmodel.add(Dropout(0.25))\n\nmodel.add(Flatten())\nmodel.add(Dense(1024, activation='relu'))\nmodel.add(Dropout(0.5))\nmodel.add(Dense(10, activation='softmax'))",
      "execution_count": 26,
      "outputs": []
    },
    {
      "metadata": {
        "trusted": true
      },
      "cell_type": "code",
      "source": "lrate = 0.01 \ndecay = lrate/5\nsgd = SGD(lr=lrate, momentum=0.9, decay=decay, nesterov=False) \nmodel.compile(loss='categorical_crossentropy', optimizer=sgd, metrics=['accuracy'])",
      "execution_count": 27,
      "outputs": []
    },
    {
      "metadata": {
        "trusted": true
      },
      "cell_type": "code",
      "source": "model.fit(X_train, y_train, validation_data=(X_test, y_test), epochs=5, batch_size=32) \nscores = model.evaluate(X_test, y_test, verbose=0) \nprint(\"Accuracy: %.2f%%\" % (scores[1]*100))\nprint(model.summary())",
      "execution_count": null,
      "outputs": [
        {
          "output_type": "stream",
          "text": "Train on 50000 samples, validate on 10000 samples\nEpoch 1/5\n50000/50000 [==============================] - 1598s 32ms/step - loss: 2.0740 - acc: 0.2195 - val_loss: 1.8549 - val_acc: 0.3241\nEpoch 2/5\n28512/50000 [================>.............] - ETA: 10:39 - loss: 1.8041 - acc: 0.3288",
          "name": "stdout"
        }
      ]
    },
    {
      "metadata": {
        "trusted": true
      },
      "cell_type": "code",
      "source": "test_image1 =image.load_img('C:\\Users\\mushu\\Desktop\\bird.jpg',target_size =(32,32))\ntest_image =image.img_to_array(test_image1) \ntest_image =np.expand_dims(test_image, axis =0) \nresult = model.predict(test_image) \nprint(result) \nif result[0][0]==1: \n    print(\"Aeroplane\") \nelif result[0][1]==1: \n    print('Automobile') \nelif result[0][2]==1: \n    print('Bird') \nelif result[0][3]==1: \n    print('Cat') \nelif result[0][4]==1: \n    print('Deer') \nelif result[0][5]==1: \n    print('Dog') \nelif result[0][6]==1: \n    print('Frog') \nelif result[0][7]==1: \n    print('Horse') \nelif result[0][8]==1: \n    print('Ship') \nelif result[0][9]==1: \n    print('Truck') \nelse: \n    print('Error')",
      "execution_count": null,
      "outputs": []
    }
  ],
  "metadata": {
    "kernelspec": {
      "name": "python36",
      "display_name": "Python 3.6",
      "language": "python"
    },
    "language_info": {
      "mimetype": "text/x-python",
      "nbconvert_exporter": "python",
      "name": "python",
      "pygments_lexer": "ipython3",
      "version": "3.6.6",
      "file_extension": ".py",
      "codemirror_mode": {
        "version": 3,
        "name": "ipython"
      }
    }
  },
  "nbformat": 4,
  "nbformat_minor": 2
}